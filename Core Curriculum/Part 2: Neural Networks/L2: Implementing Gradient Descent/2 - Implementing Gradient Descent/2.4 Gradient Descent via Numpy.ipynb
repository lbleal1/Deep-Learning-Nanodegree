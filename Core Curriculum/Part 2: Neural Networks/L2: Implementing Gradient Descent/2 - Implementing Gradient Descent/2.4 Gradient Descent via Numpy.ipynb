{
  "nbformat": 4,
  "nbformat_minor": 0,
  "metadata": {
    "colab": {
      "name": "2.4 Gradient Descent via Numpy.ipynb",
      "provenance": []
    },
    "kernelspec": {
      "name": "python3",
      "display_name": "Python 3"
    }
  },
  "cells": [
    {
      "cell_type": "code",
      "metadata": {
        "id": "XyEm8HnPSbjq",
        "colab_type": "code",
        "outputId": "8e76b86a-c0ff-4b87-d5c2-d50c8589e7c1",
        "colab": {
          "base_uri": "https://localhost:8080/"
        }
      },
      "source": [
        "import numpy as np\n",
        "import math\n",
        "\n",
        "def sigmoid(x):\n",
        "    \"\"\"\n",
        "    Calculate sigmoid\n",
        "    \"\"\"\n",
        "    return 1/(1+np.exp(-x))\n",
        "\n",
        "def sigmoid_prime(x):\n",
        "    \"\"\"\n",
        "    # Derivative of the sigmoid function\n",
        "    \"\"\"\n",
        "    return sigmoid(x) * (1 - sigmoid(x))\n",
        "\n",
        "learnrate = 0.5\n",
        "x = np.array([1, 2, 3, 4])\n",
        "y = np.array(0.5)\n",
        "\n",
        "# Initial weights\n",
        "w = np.array([0.5, -0.5, 0.3, 0.1])\n",
        "\n",
        "### Calculate one gradient descent step for each weight\n",
        "### Note: Some steps have been consolidated, so there are\n",
        "###       fewer variable names than in the above sample code\n",
        "\n",
        "# TODO: Calculate the node's linear combination of inputs and weights\n",
        "h = sum(x*w) # alternative is: np.dot(x,w)\n",
        "\n",
        "# TODO: Calculate output of neural network\n",
        "nn_output = sigmoid(h)\n",
        "\n",
        "# TODO: Calculate error of neural network\n",
        "error = y - nn_output\n",
        "\n",
        "# TODO: Calculate the error term\n",
        "#       Remember, this requires the output gradient, which we haven't\n",
        "#       specifically added a variable for.\n",
        "output_grad = sigmoid_prime(h)\n",
        "error_term = error * output_grad\n",
        "\n",
        "# TODO: Calculate change in weights\n",
        "del_w = [learnrate*error_term*x]\n",
        "\n",
        "print('Neural Network output:')\n",
        "print(nn_output)\n",
        "print('Amount of Error:')\n",
        "print(error)\n",
        "print('Change in Weights:')\n",
        "print(del_w)"
      ],
      "execution_count": 0,
      "outputs": [
        {
          "output_type": "stream",
          "text": [
            "Neural Network output:\n",
            "0.6899744811276125\n",
            "Amount of Error:\n",
            "-0.1899744811276125\n",
            "Change in Weights:\n",
            "[array([-0.02031869, -0.04063738, -0.06095608, -0.08127477])]\n"
          ],
          "name": "stdout"
        }
      ]
    }
  ]
}